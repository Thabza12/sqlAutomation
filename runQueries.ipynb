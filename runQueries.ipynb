{
 "cells": [
  {
   "cell_type": "code",
   "execution_count": 1,
   "id": "fa322f8e-7325-4a6b-ac8d-47e5d014a37a",
   "metadata": {},
   "outputs": [],
   "source": [
    "import DB_Manager\n",
    "import Sql_Queries\n",
    "import CSV_Writer\n",
    "import Rules_Def"
   ]
  },
  {
   "cell_type": "code",
   "execution_count": 4,
   "id": "cfb2b875-8cd0-4e8a-86ac-41c09ede1554",
   "metadata": {
    "tags": []
   },
   "outputs": [
    {
     "name": "stdout",
     "output_type": "stream",
     "text": [
      "{'RuleName': 'Banking Particulars Must Be Complete (AccountName) from ds.tblBankingDetails', 'TargetVal': 27680, 'Actual': 27572}\n",
      "Banking Particulars Must Be Complete (AccountName) from ds.tblBankingDetails\t27680\t27572\n",
      "Banking Particulars Must Be Complete (AccountName) from ds.tblBankingDetails\t27680\t27572\n",
      "{'RuleName': 'Banking Particulars Must Be Complete (AccountName) from ds.tblBankingDetails', 'TargetVal': 27680, 'Actual': 27572}\n",
      "Banking Particulars Must Be Complete (AccountName) from ds.tblBankingDetails\t27680\t27572\n",
      "Banking Particulars Must Be Complete (AccountName) from ds.tblBankingDetails\t27680\t27572\n"
     ]
    }
   ],
   "source": [
    "source_folder = 'C:/Users/SaneleCele-PurpleWir/Downloads/DataQuality/DataQuality/DataProfiling/DS/Registrations/sqlTxt/'\n",
    "rule = Sql_Queries.queries(source_folder).processQueries()\n",
    "# print(rule)\n",
    "csv = CSV_Writer.CSV()\n",
    "for q in rule:\n",
    "    sql = DB_Manager.DB()\n",
    "    records = sql.execute(q)\n",
    "    \n",
    "    for r in records:\n",
    "        print(r)\n",
    "        print(f\"{r['RuleName']}\\t{r['TargetVal']}\\t{r['Actual']}\")\n",
    "        \n",
    "        csv.write(r)\n"
   ]
  },
  {
   "cell_type": "code",
   "execution_count": 2,
   "id": "3380c65c-9753-480e-beed-006091c9350e",
   "metadata": {},
   "outputs": [
    {
     "name": "stdout",
     "output_type": "stream",
     "text": [
      "\n",
      "        select RuleName, sum(TargetVal) as TargetVal, sum(Actual) Actual\n",
      "\n",
      "from\n",
      "\n",
      "\t(\n",
      "\n",
      "\tselect 'first case test' RuleName,\n",
      "\n",
      "\t\tTarg.TargetVal, Act.Actual\t\t\n",
      "\n",
      "\n",
      "\tfrom\n",
      "\t\t(select [BankDetailsID], 1 TargetVal from [ds].[tblBankingDetails]) Targ\n",
      "\t\tLeft join\n",
      "\t\t(select [BankDetailsID], [AccountName],\n",
      "\t\t\t\t\tcase when [AccountName] is null\t\n",
      "\t\t\t\t\tthen 0\n",
      "\t\t\t\t\telse 1\n",
      "\t\t\t\t\tend as Actual\n",
      "\n",
      "\t\tfrom [ds].[tblBankingDetails]\n",
      "\t\tgroup by [BankDetailsID], [AccountName]) Act\n",
      "\t\ton targ.[BankDetailsID] = act.[BankDetailsID]\n",
      "\t) tbl\n",
      "\t\t\n",
      "group by RuleName\n"
     ]
    }
   ],
   "source": [
    "mgr = Rules_Def.ruleMgr()\n",
    "mgr.add()\n",
    "for i in mgr.rules:\n",
    "    rule = mgr.getFullRule(i.ruleName, i.sql)\n",
    "    print(rule)"
   ]
  },
  {
   "cell_type": "code",
   "execution_count": 3,
   "id": "523ac1d8-f8c9-4e39-9a69-0a291f924a57",
   "metadata": {},
   "outputs": [
    {
     "data": {
      "text/plain": [
       "\"\\n        select RuleName, sum(TargetVal) as TargetVal, sum(Actual) Actual\\n\\nfrom\\n\\n\\t(\\n\\n\\tselect 'Banking Particulars Must Be Complete (AccountName) from ds.tblBankingDetails' RuleName,\\n\\n\\t\\tTarg.TargetVal, Act.Actual\\t\\t\\n\\n\\n\\tfrom\\n\\t\\tjnwunw\\n\\t\\t\\ngroup by RuleName\""
      ]
     },
     "execution_count": 3,
     "metadata": {},
     "output_type": "execute_result"
    }
   ],
   "source": [
    "mgr.getFullRule('jnwunw')"
   ]
  },
  {
   "cell_type": "code",
   "execution_count": 3,
   "id": "72cf7e31-4780-46ce-a4e3-de56d20eeb56",
   "metadata": {
    "tags": []
   },
   "outputs": [
    {
     "name": "stdout",
     "output_type": "stream",
     "text": [
      "C:\\Users\\SaneleCele-PurpleWir\\Downloads\\DataQuality\\DataQuality\\DataProfiling\\DS\\Registrations\\sqlTxt\\AspNetUser-ConfirmedEmail-Profiling.sql\n"
     ]
    },
    {
     "ename": "AttributeError",
     "evalue": "'str' object has no attribute 'read'",
     "output_type": "error",
     "traceback": [
      "\u001b[1;31m---------------------------------------------------------------------------\u001b[0m",
      "\u001b[1;31mAttributeError\u001b[0m                            Traceback (most recent call last)",
      "Input \u001b[1;32mIn [3]\u001b[0m, in \u001b[0;36m<cell line: 3>\u001b[1;34m()\u001b[0m\n\u001b[0;32m      6\u001b[0m \u001b[38;5;28;01mwith\u001b[39;00m \u001b[38;5;28mopen\u001b[39m(file_name, \u001b[38;5;124m'\u001b[39m\u001b[38;5;124mr\u001b[39m\u001b[38;5;124m'\u001b[39m) \u001b[38;5;28;01mas\u001b[39;00m f:\n\u001b[0;32m      7\u001b[0m     \u001b[38;5;66;03m# lines = f.read()\u001b[39;00m\n\u001b[0;32m      8\u001b[0m     \u001b[38;5;66;03m# lines = lines.splitlines()\u001b[39;00m\n\u001b[0;32m      9\u001b[0m     \u001b[38;5;66;03m# print(lines)\u001b[39;00m\n\u001b[0;32m     10\u001b[0m     \u001b[38;5;66;03m# lin_arr = []\u001b[39;00m\n\u001b[0;32m     11\u001b[0m     \u001b[38;5;28;01mfor\u001b[39;00m line \u001b[38;5;129;01min\u001b[39;00m f:\n\u001b[1;32m---> 12\u001b[0m         query \u001b[38;5;241m=\u001b[39m \u001b[43mline\u001b[49m\u001b[38;5;241;43m.\u001b[39;49m\u001b[43mread\u001b[49m()\u001b[38;5;241m.\u001b[39mstrip()\n\u001b[0;32m     13\u001b[0m         fq \u001b[38;5;241m=\u001b[39m \u001b[38;5;124mf\u001b[39m\u001b[38;5;124m'\u001b[39m\u001b[38;5;124m\"\u001b[39m\u001b[38;5;124m\"\u001b[39m\u001b[38;5;124m\"\u001b[39m\u001b[38;5;132;01m{\u001b[39;00mquery\u001b[38;5;132;01m}\u001b[39;00m\u001b[38;5;124m\"\u001b[39m\u001b[38;5;124m\"\u001b[39m\u001b[38;5;124m\"\u001b[39m\u001b[38;5;124m'\u001b[39m\n\u001b[0;32m     14\u001b[0m         \u001b[38;5;66;03m# l = (f'\"\"\"{}\"\"\"'.format(line))\u001b[39;00m\n\u001b[0;32m     15\u001b[0m         \u001b[38;5;66;03m# lin_arr.append(line)\u001b[39;00m\n\u001b[0;32m     16\u001b[0m         \u001b[38;5;66;03m# print(l)\u001b[39;00m\n\u001b[0;32m     17\u001b[0m         \u001b[38;5;66;03m# print(\"\"\"{}\"\"\".format(line))\u001b[39;00m\n",
      "\u001b[1;31mAttributeError\u001b[0m: 'str' object has no attribute 'read'"
     ]
    }
   ],
   "source": [
    "from pathlib import Path\n",
    "\n",
    "for file_name in Path(source_folder).glob('*.sql'):\n",
    "            print(f'{file_name}')\n",
    "            query = \"\"\n",
    "            with open(file_name, 'r') as f:\n",
    "                # lines = f.read()\n",
    "                # lines = lines.splitlines()\n",
    "                # print(lines)\n",
    "                # lin_arr = []\n",
    "                for line in f:\n",
    "                    query = line.read().strip()\n",
    "                    fq = f'\"\"\"{query}\"\"\"'\n",
    "                    # l = (f'\"\"\"{}\"\"\"'.format(line))\n",
    "                    # lin_arr.append(line)\n",
    "                    # print(l)\n",
    "                    # print(\"\"\"{}\"\"\".format(line))\n",
    "            print(query)"
   ]
  },
  {
   "cell_type": "code",
   "execution_count": null,
   "id": "8db5277c-4315-4f2a-8151-02b20b467cc5",
   "metadata": {},
   "outputs": [],
   "source": []
  }
 ],
 "metadata": {
  "kernelspec": {
   "display_name": "Python 3 (ipykernel)",
   "language": "python",
   "name": "python3"
  },
  "language_info": {
   "codemirror_mode": {
    "name": "ipython",
    "version": 3
   },
   "file_extension": ".py",
   "mimetype": "text/x-python",
   "name": "python",
   "nbconvert_exporter": "python",
   "pygments_lexer": "ipython3",
   "version": "3.9.12"
  }
 },
 "nbformat": 4,
 "nbformat_minor": 5
}
